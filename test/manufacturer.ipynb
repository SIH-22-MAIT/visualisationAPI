{
 "cells": [
  {
   "cell_type": "code",
   "execution_count": 5,
   "id": "28d27e5a-f40b-48af-8ec5-d1e6840643ff",
   "metadata": {},
   "outputs": [],
   "source": [
    "import pandas as pd\n",
    "import numpy as np\n",
    "manufacturer = pd.read_csv('../data/manufacturerForm.csv')"
   ]
  },
  {
   "cell_type": "code",
   "execution_count": 13,
   "id": "6f64b416-be7d-4925-b285-149d3ee94d84",
   "metadata": {},
   "outputs": [],
   "source": [
    "manufacturer_byID = pd.pivot_table(manufacturer, values='quantity', index=['manufacturerID'], aggfunc=np.sum)\n",
    "manufacturer_byID = manufacturer_byID.reset_index()"
   ]
  },
  {
   "cell_type": "code",
   "execution_count": 15,
   "id": "b6c4759e-7a50-46dd-8523-2a26ae452d63",
   "metadata": {},
   "outputs": [],
   "source": [
    "y = manufacturer_byID['quantity']\n",
    "x = manufacturer_byID['manufacturerID']"
   ]
  },
  {
   "cell_type": "code",
   "execution_count": 17,
   "id": "2c3d099e-0943-445a-af7e-3802a806d08a",
   "metadata": {},
   "outputs": [
    {
     "data": {
      "text/plain": [
       "0      896\n",
       "1      932\n",
       "2     1055\n",
       "3      743\n",
       "4      966\n",
       "5      805\n",
       "6      915\n",
       "7      800\n",
       "8      782\n",
       "9      682\n",
       "10     858\n",
       "11     780\n",
       "Name: quantity, dtype: int64"
      ]
     },
     "execution_count": 17,
     "metadata": {},
     "output_type": "execute_result"
    }
   ],
   "source": [
    "y"
   ]
  },
  {
   "cell_type": "code",
   "execution_count": null,
   "id": "704d2973-555d-4cc6-b3e4-20170096e2d7",
   "metadata": {},
   "outputs": [],
   "source": []
  },
  {
   "cell_type": "code",
   "execution_count": null,
   "id": "8022c122-6e95-4b35-a28a-4cad3a57b42c",
   "metadata": {},
   "outputs": [],
   "source": []
  }
 ],
 "metadata": {
  "kernelspec": {
   "display_name": "Python 3 (ipykernel)",
   "language": "python",
   "name": "python3"
  },
  "language_info": {
   "codemirror_mode": {
    "name": "ipython",
    "version": 3
   },
   "file_extension": ".py",
   "mimetype": "text/x-python",
   "name": "python",
   "nbconvert_exporter": "python",
   "pygments_lexer": "ipython3",
   "version": "3.10.4"
  }
 },
 "nbformat": 4,
 "nbformat_minor": 5
}
