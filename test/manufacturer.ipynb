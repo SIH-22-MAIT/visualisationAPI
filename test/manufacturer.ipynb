{
 "cells": [
  {
   "cell_type": "code",
   "execution_count": 5,
   "id": "28d27e5a-f40b-48af-8ec5-d1e6840643ff",
   "metadata": {},
   "outputs": [],
   "source": [
    "import pandas as pd\n",
    "import numpy as np\n",
    "manufacturer = pd.read_csv('../data/manufacturerForm.csv')"
   ]
  },
  {
   "cell_type": "code",
   "execution_count": 13,
   "id": "6f64b416-be7d-4925-b285-149d3ee94d84",
   "metadata": {},
   "outputs": [],
   "source": [
    "manufacturer_byID = pd.pivot_table(manufacturer, values='quantity', index=['manufacturerID'], aggfunc=np.sum)\n",
    "manufacturer_byID = manufacturer_byID.reset_index()"
   ]
  },
  {
   "cell_type": "code",
   "execution_count": 18,
   "id": "b6c4759e-7a50-46dd-8523-2a26ae452d63",
   "metadata": {},
   "outputs": [],
   "source": [
    "y = manufacturer_byID['quantity'].to_list()\n",
    "x = manufacturer_byID['manufacturerID'].to_list()"
   ]
  },
  {
   "cell_type": "markdown",
   "id": "c76eba58-4361-440b-aedb-9d127e597a76",
   "metadata": {},
   "source": [
    "Second Plot"
   ]
  },
  {
   "cell_type": "code",
   "execution_count": null,
   "id": "4cd21233-498d-4425-9e27-fafc6ea7fc9e",
   "metadata": {},
   "outputs": [],
   "source": []
  }
 ],
 "metadata": {
  "kernelspec": {
   "display_name": "Python 3 (ipykernel)",
   "language": "python",
   "name": "python3"
  },
  "language_info": {
   "codemirror_mode": {
    "name": "ipython",
    "version": 3
   },
   "file_extension": ".py",
   "mimetype": "text/x-python",
   "name": "python",
   "nbconvert_exporter": "python",
   "pygments_lexer": "ipython3",
   "version": "3.10.4"
  }
 },
 "nbformat": 4,
 "nbformat_minor": 5
}
